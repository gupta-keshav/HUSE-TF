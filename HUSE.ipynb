{
  "nbformat": 4,
  "nbformat_minor": 0,
  "metadata": {
    "colab": {
      "name": "HUSE Final.ipynb",
      "provenance": [],
      "collapsed_sections": [],
      "toc_visible": true,
      "machine_shape": "hm",
      "authorship_tag": "ABX9TyNdslE9mN56JX3/otIBYwSq",
      "include_colab_link": true
    },
    "kernelspec": {
      "name": "python3",
      "display_name": "Python 3"
    },
    "accelerator": "GPU",
    "widgets": {
      "application/vnd.jupyter.widget-state+json": {
        "1c0864b176a84221afbacf245c3385ed": {
          "model_module": "@jupyter-widgets/controls",
          "model_name": "HBoxModel",
          "state": {
            "_view_name": "HBoxView",
            "_dom_classes": [],
            "_model_name": "HBoxModel",
            "_view_module": "@jupyter-widgets/controls",
            "_model_module_version": "1.5.0",
            "_view_count": null,
            "_view_module_version": "1.5.0",
            "box_style": "",
            "layout": "IPY_MODEL_79c5e93f65d94cff8808f841b3f5f8a2",
            "_model_module": "@jupyter-widgets/controls",
            "children": [
              "IPY_MODEL_faff4d4fe06647018b4c23eebb74a92a",
              "IPY_MODEL_24ef9521d82640d793546f4935a242a0"
            ]
          }
        },
        "79c5e93f65d94cff8808f841b3f5f8a2": {
          "model_module": "@jupyter-widgets/base",
          "model_name": "LayoutModel",
          "state": {
            "_view_name": "LayoutView",
            "grid_template_rows": null,
            "right": null,
            "justify_content": null,
            "_view_module": "@jupyter-widgets/base",
            "overflow": null,
            "_model_module_version": "1.2.0",
            "_view_count": null,
            "flex_flow": null,
            "width": null,
            "min_width": null,
            "border": null,
            "align_items": null,
            "bottom": null,
            "_model_module": "@jupyter-widgets/base",
            "top": null,
            "grid_column": null,
            "overflow_y": null,
            "overflow_x": null,
            "grid_auto_flow": null,
            "grid_area": null,
            "grid_template_columns": null,
            "flex": null,
            "_model_name": "LayoutModel",
            "justify_items": null,
            "grid_row": null,
            "max_height": null,
            "align_content": null,
            "visibility": null,
            "align_self": null,
            "height": null,
            "min_height": null,
            "padding": null,
            "grid_auto_rows": null,
            "grid_gap": null,
            "max_width": null,
            "order": null,
            "_view_module_version": "1.2.0",
            "grid_template_areas": null,
            "object_position": null,
            "object_fit": null,
            "grid_auto_columns": null,
            "margin": null,
            "display": null,
            "left": null
          }
        },
        "faff4d4fe06647018b4c23eebb74a92a": {
          "model_module": "@jupyter-widgets/controls",
          "model_name": "IntProgressModel",
          "state": {
            "_view_name": "ProgressView",
            "style": "IPY_MODEL_5fb12dbb83bd4f1eb7c07a37f1117599",
            "_dom_classes": [],
            "description": "100%",
            "_model_name": "IntProgressModel",
            "bar_style": "danger",
            "max": 206,
            "_view_module": "@jupyter-widgets/controls",
            "_model_module_version": "1.5.0",
            "value": 205,
            "_view_count": null,
            "_view_module_version": "1.5.0",
            "orientation": "horizontal",
            "min": 0,
            "description_tooltip": null,
            "_model_module": "@jupyter-widgets/controls",
            "layout": "IPY_MODEL_5a6a6b7b88f24e86b9528089fe0bb083"
          }
        },
        "24ef9521d82640d793546f4935a242a0": {
          "model_module": "@jupyter-widgets/controls",
          "model_name": "HTMLModel",
          "state": {
            "_view_name": "HTMLView",
            "style": "IPY_MODEL_3e3e3e8785444d379e29abafda5309f0",
            "_dom_classes": [],
            "description": "",
            "_model_name": "HTMLModel",
            "placeholder": "​",
            "_view_module": "@jupyter-widgets/controls",
            "_model_module_version": "1.5.0",
            "value": " 205/206 [22:33&lt;00:06,  6.46s/it]",
            "_view_count": null,
            "_view_module_version": "1.5.0",
            "description_tooltip": null,
            "_model_module": "@jupyter-widgets/controls",
            "layout": "IPY_MODEL_95be2b9690624c66b04aeb010924ff8a"
          }
        },
        "5fb12dbb83bd4f1eb7c07a37f1117599": {
          "model_module": "@jupyter-widgets/controls",
          "model_name": "ProgressStyleModel",
          "state": {
            "_view_name": "StyleView",
            "_model_name": "ProgressStyleModel",
            "description_width": "initial",
            "_view_module": "@jupyter-widgets/base",
            "_model_module_version": "1.5.0",
            "_view_count": null,
            "_view_module_version": "1.2.0",
            "bar_color": null,
            "_model_module": "@jupyter-widgets/controls"
          }
        },
        "5a6a6b7b88f24e86b9528089fe0bb083": {
          "model_module": "@jupyter-widgets/base",
          "model_name": "LayoutModel",
          "state": {
            "_view_name": "LayoutView",
            "grid_template_rows": null,
            "right": null,
            "justify_content": null,
            "_view_module": "@jupyter-widgets/base",
            "overflow": null,
            "_model_module_version": "1.2.0",
            "_view_count": null,
            "flex_flow": null,
            "width": null,
            "min_width": null,
            "border": null,
            "align_items": null,
            "bottom": null,
            "_model_module": "@jupyter-widgets/base",
            "top": null,
            "grid_column": null,
            "overflow_y": null,
            "overflow_x": null,
            "grid_auto_flow": null,
            "grid_area": null,
            "grid_template_columns": null,
            "flex": null,
            "_model_name": "LayoutModel",
            "justify_items": null,
            "grid_row": null,
            "max_height": null,
            "align_content": null,
            "visibility": null,
            "align_self": null,
            "height": null,
            "min_height": null,
            "padding": null,
            "grid_auto_rows": null,
            "grid_gap": null,
            "max_width": null,
            "order": null,
            "_view_module_version": "1.2.0",
            "grid_template_areas": null,
            "object_position": null,
            "object_fit": null,
            "grid_auto_columns": null,
            "margin": null,
            "display": null,
            "left": null
          }
        },
        "3e3e3e8785444d379e29abafda5309f0": {
          "model_module": "@jupyter-widgets/controls",
          "model_name": "DescriptionStyleModel",
          "state": {
            "_view_name": "StyleView",
            "_model_name": "DescriptionStyleModel",
            "description_width": "",
            "_view_module": "@jupyter-widgets/base",
            "_model_module_version": "1.5.0",
            "_view_count": null,
            "_view_module_version": "1.2.0",
            "_model_module": "@jupyter-widgets/controls"
          }
        },
        "95be2b9690624c66b04aeb010924ff8a": {
          "model_module": "@jupyter-widgets/base",
          "model_name": "LayoutModel",
          "state": {
            "_view_name": "LayoutView",
            "grid_template_rows": null,
            "right": null,
            "justify_content": null,
            "_view_module": "@jupyter-widgets/base",
            "overflow": null,
            "_model_module_version": "1.2.0",
            "_view_count": null,
            "flex_flow": null,
            "width": null,
            "min_width": null,
            "border": null,
            "align_items": null,
            "bottom": null,
            "_model_module": "@jupyter-widgets/base",
            "top": null,
            "grid_column": null,
            "overflow_y": null,
            "overflow_x": null,
            "grid_auto_flow": null,
            "grid_area": null,
            "grid_template_columns": null,
            "flex": null,
            "_model_name": "LayoutModel",
            "justify_items": null,
            "grid_row": null,
            "max_height": null,
            "align_content": null,
            "visibility": null,
            "align_self": null,
            "height": null,
            "min_height": null,
            "padding": null,
            "grid_auto_rows": null,
            "grid_gap": null,
            "max_width": null,
            "order": null,
            "_view_module_version": "1.2.0",
            "grid_template_areas": null,
            "object_position": null,
            "object_fit": null,
            "grid_auto_columns": null,
            "margin": null,
            "display": null,
            "left": null
          }
        },
        "488f3b007a8942c1a05dbb366b17fa54": {
          "model_module": "@jupyter-widgets/output",
          "model_name": "OutputModel",
          "state": {
            "_view_name": "OutputView",
            "msg_id": "",
            "_dom_classes": [],
            "_model_name": "OutputModel",
            "outputs": [
              {
                "output_type": "stream",
                "metadata": {
                  "tags": []
                },
                "text": "0.09375 0.01607142857142857\n",
                "stream": "stdout"
              }
            ],
            "_view_module": "@jupyter-widgets/output",
            "_model_module_version": "1.0.0",
            "_view_count": null,
            "_view_module_version": "1.0.0",
            "layout": "IPY_MODEL_abd14a98df5f49ef819287a164e8d371",
            "_model_module": "@jupyter-widgets/output"
          }
        },
        "abd14a98df5f49ef819287a164e8d371": {
          "model_module": "@jupyter-widgets/base",
          "model_name": "LayoutModel",
          "state": {
            "_view_name": "LayoutView",
            "grid_template_rows": null,
            "right": null,
            "justify_content": null,
            "_view_module": "@jupyter-widgets/base",
            "overflow": null,
            "_model_module_version": "1.2.0",
            "_view_count": null,
            "flex_flow": null,
            "width": null,
            "min_width": null,
            "border": null,
            "align_items": null,
            "bottom": null,
            "_model_module": "@jupyter-widgets/base",
            "top": null,
            "grid_column": null,
            "overflow_y": null,
            "overflow_x": null,
            "grid_auto_flow": null,
            "grid_area": null,
            "grid_template_columns": null,
            "flex": null,
            "_model_name": "LayoutModel",
            "justify_items": null,
            "grid_row": null,
            "max_height": null,
            "align_content": null,
            "visibility": null,
            "align_self": null,
            "height": null,
            "min_height": null,
            "padding": null,
            "grid_auto_rows": null,
            "grid_gap": null,
            "max_width": null,
            "order": null,
            "_view_module_version": "1.2.0",
            "grid_template_areas": null,
            "object_position": null,
            "object_fit": null,
            "grid_auto_columns": null,
            "margin": null,
            "display": null,
            "left": null
          }
        },
        "c0fe95afe802410da239675ef68f07db": {
          "model_module": "@jupyter-widgets/controls",
          "model_name": "HBoxModel",
          "state": {
            "_view_name": "HBoxView",
            "_dom_classes": [],
            "_model_name": "HBoxModel",
            "_view_module": "@jupyter-widgets/controls",
            "_model_module_version": "1.5.0",
            "_view_count": null,
            "_view_module_version": "1.5.0",
            "box_style": "",
            "layout": "IPY_MODEL_34f73edd6a904f73b900dcd3233fee52",
            "_model_module": "@jupyter-widgets/controls",
            "children": [
              "IPY_MODEL_c903ccfb351743c08c52a1f913202b91",
              "IPY_MODEL_9a4cd9ad7c7944f2badd1702f56f28ef"
            ]
          }
        },
        "34f73edd6a904f73b900dcd3233fee52": {
          "model_module": "@jupyter-widgets/base",
          "model_name": "LayoutModel",
          "state": {
            "_view_name": "LayoutView",
            "grid_template_rows": null,
            "right": null,
            "justify_content": null,
            "_view_module": "@jupyter-widgets/base",
            "overflow": null,
            "_model_module_version": "1.2.0",
            "_view_count": null,
            "flex_flow": null,
            "width": null,
            "min_width": null,
            "border": null,
            "align_items": null,
            "bottom": null,
            "_model_module": "@jupyter-widgets/base",
            "top": null,
            "grid_column": null,
            "overflow_y": null,
            "overflow_x": null,
            "grid_auto_flow": null,
            "grid_area": null,
            "grid_template_columns": null,
            "flex": null,
            "_model_name": "LayoutModel",
            "justify_items": null,
            "grid_row": null,
            "max_height": null,
            "align_content": null,
            "visibility": null,
            "align_self": null,
            "height": null,
            "min_height": null,
            "padding": null,
            "grid_auto_rows": null,
            "grid_gap": null,
            "max_width": null,
            "order": null,
            "_view_module_version": "1.2.0",
            "grid_template_areas": null,
            "object_position": null,
            "object_fit": null,
            "grid_auto_columns": null,
            "margin": null,
            "display": null,
            "left": null
          }
        },
        "c903ccfb351743c08c52a1f913202b91": {
          "model_module": "@jupyter-widgets/controls",
          "model_name": "IntProgressModel",
          "state": {
            "_view_name": "ProgressView",
            "style": "IPY_MODEL_64d9965863414cd29409a9e90c38dd46",
            "_dom_classes": [],
            "description": "100%",
            "_model_name": "IntProgressModel",
            "bar_style": "success",
            "max": 1,
            "_view_module": "@jupyter-widgets/controls",
            "_model_module_version": "1.5.0",
            "value": 1,
            "_view_count": null,
            "_view_module_version": "1.5.0",
            "orientation": "horizontal",
            "min": 0,
            "description_tooltip": null,
            "_model_module": "@jupyter-widgets/controls",
            "layout": "IPY_MODEL_b0962681672e474492906ef0b80e465b"
          }
        },
        "9a4cd9ad7c7944f2badd1702f56f28ef": {
          "model_module": "@jupyter-widgets/controls",
          "model_name": "HTMLModel",
          "state": {
            "_view_name": "HTMLView",
            "style": "IPY_MODEL_7792e21e25d84ac4a563f7bbca8da208",
            "_dom_classes": [],
            "description": "",
            "_model_name": "HTMLModel",
            "placeholder": "​",
            "_view_module": "@jupyter-widgets/controls",
            "_model_module_version": "1.5.0",
            "value": " 1/1 [00:12&lt;00:00, 12.32s/it]",
            "_view_count": null,
            "_view_module_version": "1.5.0",
            "description_tooltip": null,
            "_model_module": "@jupyter-widgets/controls",
            "layout": "IPY_MODEL_761331e10f1b4c4eaa6712665a709cb3"
          }
        },
        "64d9965863414cd29409a9e90c38dd46": {
          "model_module": "@jupyter-widgets/controls",
          "model_name": "ProgressStyleModel",
          "state": {
            "_view_name": "StyleView",
            "_model_name": "ProgressStyleModel",
            "description_width": "initial",
            "_view_module": "@jupyter-widgets/base",
            "_model_module_version": "1.5.0",
            "_view_count": null,
            "_view_module_version": "1.2.0",
            "bar_color": null,
            "_model_module": "@jupyter-widgets/controls"
          }
        },
        "b0962681672e474492906ef0b80e465b": {
          "model_module": "@jupyter-widgets/base",
          "model_name": "LayoutModel",
          "state": {
            "_view_name": "LayoutView",
            "grid_template_rows": null,
            "right": null,
            "justify_content": null,
            "_view_module": "@jupyter-widgets/base",
            "overflow": null,
            "_model_module_version": "1.2.0",
            "_view_count": null,
            "flex_flow": null,
            "width": null,
            "min_width": null,
            "border": null,
            "align_items": null,
            "bottom": null,
            "_model_module": "@jupyter-widgets/base",
            "top": null,
            "grid_column": null,
            "overflow_y": null,
            "overflow_x": null,
            "grid_auto_flow": null,
            "grid_area": null,
            "grid_template_columns": null,
            "flex": null,
            "_model_name": "LayoutModel",
            "justify_items": null,
            "grid_row": null,
            "max_height": null,
            "align_content": null,
            "visibility": null,
            "align_self": null,
            "height": null,
            "min_height": null,
            "padding": null,
            "grid_auto_rows": null,
            "grid_gap": null,
            "max_width": null,
            "order": null,
            "_view_module_version": "1.2.0",
            "grid_template_areas": null,
            "object_position": null,
            "object_fit": null,
            "grid_auto_columns": null,
            "margin": null,
            "display": null,
            "left": null
          }
        },
        "7792e21e25d84ac4a563f7bbca8da208": {
          "model_module": "@jupyter-widgets/controls",
          "model_name": "DescriptionStyleModel",
          "state": {
            "_view_name": "StyleView",
            "_model_name": "DescriptionStyleModel",
            "description_width": "",
            "_view_module": "@jupyter-widgets/base",
            "_model_module_version": "1.5.0",
            "_view_count": null,
            "_view_module_version": "1.2.0",
            "_model_module": "@jupyter-widgets/controls"
          }
        },
        "761331e10f1b4c4eaa6712665a709cb3": {
          "model_module": "@jupyter-widgets/base",
          "model_name": "LayoutModel",
          "state": {
            "_view_name": "LayoutView",
            "grid_template_rows": null,
            "right": null,
            "justify_content": null,
            "_view_module": "@jupyter-widgets/base",
            "overflow": null,
            "_model_module_version": "1.2.0",
            "_view_count": null,
            "flex_flow": null,
            "width": null,
            "min_width": null,
            "border": null,
            "align_items": null,
            "bottom": null,
            "_model_module": "@jupyter-widgets/base",
            "top": null,
            "grid_column": null,
            "overflow_y": null,
            "overflow_x": null,
            "grid_auto_flow": null,
            "grid_area": null,
            "grid_template_columns": null,
            "flex": null,
            "_model_name": "LayoutModel",
            "justify_items": null,
            "grid_row": null,
            "max_height": null,
            "align_content": null,
            "visibility": null,
            "align_self": null,
            "height": null,
            "min_height": null,
            "padding": null,
            "grid_auto_rows": null,
            "grid_gap": null,
            "max_width": null,
            "order": null,
            "_view_module_version": "1.2.0",
            "grid_template_areas": null,
            "object_position": null,
            "object_fit": null,
            "grid_auto_columns": null,
            "margin": null,
            "display": null,
            "left": null
          }
        },
        "63550bb10d084a22af64b36f09ca70e6": {
          "model_module": "@jupyter-widgets/controls",
          "model_name": "HBoxModel",
          "state": {
            "_view_name": "HBoxView",
            "_dom_classes": [],
            "_model_name": "HBoxModel",
            "_view_module": "@jupyter-widgets/controls",
            "_model_module_version": "1.5.0",
            "_view_count": null,
            "_view_module_version": "1.5.0",
            "box_style": "",
            "layout": "IPY_MODEL_4de938c8e39749a8a35ba1b38d0c7e80",
            "_model_module": "@jupyter-widgets/controls",
            "children": [
              "IPY_MODEL_574c8e00c72b4e748df95ef05c1eb191",
              "IPY_MODEL_0df7a34538174320b703bf37399f4d7d"
            ]
          }
        },
        "4de938c8e39749a8a35ba1b38d0c7e80": {
          "model_module": "@jupyter-widgets/base",
          "model_name": "LayoutModel",
          "state": {
            "_view_name": "LayoutView",
            "grid_template_rows": null,
            "right": null,
            "justify_content": null,
            "_view_module": "@jupyter-widgets/base",
            "overflow": null,
            "_model_module_version": "1.2.0",
            "_view_count": null,
            "flex_flow": null,
            "width": null,
            "min_width": null,
            "border": null,
            "align_items": null,
            "bottom": null,
            "_model_module": "@jupyter-widgets/base",
            "top": null,
            "grid_column": null,
            "overflow_y": null,
            "overflow_x": null,
            "grid_auto_flow": null,
            "grid_area": null,
            "grid_template_columns": null,
            "flex": null,
            "_model_name": "LayoutModel",
            "justify_items": null,
            "grid_row": null,
            "max_height": null,
            "align_content": null,
            "visibility": null,
            "align_self": null,
            "height": null,
            "min_height": null,
            "padding": null,
            "grid_auto_rows": null,
            "grid_gap": null,
            "max_width": null,
            "order": null,
            "_view_module_version": "1.2.0",
            "grid_template_areas": null,
            "object_position": null,
            "object_fit": null,
            "grid_auto_columns": null,
            "margin": null,
            "display": null,
            "left": null
          }
        },
        "574c8e00c72b4e748df95ef05c1eb191": {
          "model_module": "@jupyter-widgets/controls",
          "model_name": "IntProgressModel",
          "state": {
            "_view_name": "ProgressView",
            "style": "IPY_MODEL_afe636277bf34b59aa40c57dc507335d",
            "_dom_classes": [],
            "description": "  1%",
            "_model_name": "IntProgressModel",
            "bar_style": "danger",
            "max": 2053,
            "_view_module": "@jupyter-widgets/controls",
            "_model_module_version": "1.5.0",
            "value": 20,
            "_view_count": null,
            "_view_module_version": "1.5.0",
            "orientation": "horizontal",
            "min": 0,
            "description_tooltip": null,
            "_model_module": "@jupyter-widgets/controls",
            "layout": "IPY_MODEL_f31471556a144d0381ed177208de9d6f"
          }
        },
        "0df7a34538174320b703bf37399f4d7d": {
          "model_module": "@jupyter-widgets/controls",
          "model_name": "HTMLModel",
          "state": {
            "_view_name": "HTMLView",
            "style": "IPY_MODEL_2d5150f19847432883e1f082389454da",
            "_dom_classes": [],
            "description": "",
            "_model_name": "HTMLModel",
            "placeholder": "​",
            "_view_module": "@jupyter-widgets/controls",
            "_model_module_version": "1.5.0",
            "value": " 20/2053 [00:12&lt;19:37,  1.73it/s]",
            "_view_count": null,
            "_view_module_version": "1.5.0",
            "description_tooltip": null,
            "_model_module": "@jupyter-widgets/controls",
            "layout": "IPY_MODEL_8cd0b31c066b4e2cb48b6a286c091d83"
          }
        },
        "afe636277bf34b59aa40c57dc507335d": {
          "model_module": "@jupyter-widgets/controls",
          "model_name": "ProgressStyleModel",
          "state": {
            "_view_name": "StyleView",
            "_model_name": "ProgressStyleModel",
            "description_width": "initial",
            "_view_module": "@jupyter-widgets/base",
            "_model_module_version": "1.5.0",
            "_view_count": null,
            "_view_module_version": "1.2.0",
            "bar_color": null,
            "_model_module": "@jupyter-widgets/controls"
          }
        },
        "f31471556a144d0381ed177208de9d6f": {
          "model_module": "@jupyter-widgets/base",
          "model_name": "LayoutModel",
          "state": {
            "_view_name": "LayoutView",
            "grid_template_rows": null,
            "right": null,
            "justify_content": null,
            "_view_module": "@jupyter-widgets/base",
            "overflow": null,
            "_model_module_version": "1.2.0",
            "_view_count": null,
            "flex_flow": null,
            "width": null,
            "min_width": null,
            "border": null,
            "align_items": null,
            "bottom": null,
            "_model_module": "@jupyter-widgets/base",
            "top": null,
            "grid_column": null,
            "overflow_y": null,
            "overflow_x": null,
            "grid_auto_flow": null,
            "grid_area": null,
            "grid_template_columns": null,
            "flex": null,
            "_model_name": "LayoutModel",
            "justify_items": null,
            "grid_row": null,
            "max_height": null,
            "align_content": null,
            "visibility": null,
            "align_self": null,
            "height": null,
            "min_height": null,
            "padding": null,
            "grid_auto_rows": null,
            "grid_gap": null,
            "max_width": null,
            "order": null,
            "_view_module_version": "1.2.0",
            "grid_template_areas": null,
            "object_position": null,
            "object_fit": null,
            "grid_auto_columns": null,
            "margin": null,
            "display": null,
            "left": null
          }
        },
        "2d5150f19847432883e1f082389454da": {
          "model_module": "@jupyter-widgets/controls",
          "model_name": "DescriptionStyleModel",
          "state": {
            "_view_name": "StyleView",
            "_model_name": "DescriptionStyleModel",
            "description_width": "",
            "_view_module": "@jupyter-widgets/base",
            "_model_module_version": "1.5.0",
            "_view_count": null,
            "_view_module_version": "1.2.0",
            "_model_module": "@jupyter-widgets/controls"
          }
        },
        "8cd0b31c066b4e2cb48b6a286c091d83": {
          "model_module": "@jupyter-widgets/base",
          "model_name": "LayoutModel",
          "state": {
            "_view_name": "LayoutView",
            "grid_template_rows": null,
            "right": null,
            "justify_content": null,
            "_view_module": "@jupyter-widgets/base",
            "overflow": null,
            "_model_module_version": "1.2.0",
            "_view_count": null,
            "flex_flow": null,
            "width": null,
            "min_width": null,
            "border": null,
            "align_items": null,
            "bottom": null,
            "_model_module": "@jupyter-widgets/base",
            "top": null,
            "grid_column": null,
            "overflow_y": null,
            "overflow_x": null,
            "grid_auto_flow": null,
            "grid_area": null,
            "grid_template_columns": null,
            "flex": null,
            "_model_name": "LayoutModel",
            "justify_items": null,
            "grid_row": null,
            "max_height": null,
            "align_content": null,
            "visibility": null,
            "align_self": null,
            "height": null,
            "min_height": null,
            "padding": null,
            "grid_auto_rows": null,
            "grid_gap": null,
            "max_width": null,
            "order": null,
            "_view_module_version": "1.2.0",
            "grid_template_areas": null,
            "object_position": null,
            "object_fit": null,
            "grid_auto_columns": null,
            "margin": null,
            "display": null,
            "left": null
          }
        }
      }
    }
  },
  "cells": [
    {
      "cell_type": "markdown",
      "metadata": {
        "id": "view-in-github",
        "colab_type": "text"
      },
      "source": [
        "<a href=\"https://colab.research.google.com/github/gupta-keshav/HUSE-TF/blob/master/HUSE.ipynb\" target=\"_parent\"><img src=\"https://colab.research.google.com/assets/colab-badge.svg\" alt=\"Open In Colab\"/></a>"
      ]
    },
    {
      "cell_type": "markdown",
      "metadata": {
        "id": "Luo8uyRQLJ9u",
        "colab_type": "text"
      },
      "source": [
        "# Introduction\n",
        "This notebook tries to implement Hierarchical Universal Semantic Embedding(HUSE) Model. HUSE tries to project objects(images or text) from different modalities to a universal shared space and then use the projections to classify the objects as well as maintain the semantic relation.\n",
        "<img src=\"https://drive.google.com/uc?id=16wQ1Z2o2MitrrK9lbNmGFec3gM8_qG8D\" width=\"600\" layout=\"centre\">"
      ]
    },
    {
      "cell_type": "code",
      "metadata": {
        "id": "ZA3If2C5nFsX",
        "colab_type": "code",
        "outputId": "68ca5119-c597-443c-f524-979f7d3b82c5",
        "colab": {
          "base_uri": "https://localhost:8080/",
          "height": 35
        }
      },
      "source": [
        "from google.colab import drive\n",
        "drive.mount('/content/drive')"
      ],
      "execution_count": 0,
      "outputs": [
        {
          "output_type": "stream",
          "text": [
            "Drive already mounted at /content/drive; to attempt to forcibly remount, call drive.mount(\"/content/drive\", force_remount=True).\n"
          ],
          "name": "stdout"
        }
      ]
    },
    {
      "cell_type": "markdown",
      "metadata": {
        "id": "VkIb7okiSg6S",
        "colab_type": "text"
      },
      "source": [
        "Importing all the necessary libraries"
      ]
    },
    {
      "cell_type": "code",
      "metadata": {
        "id": "RktHctj6nH_b",
        "colab_type": "code",
        "outputId": "3be088d9-a343-47e2-ce5c-f671ac999763",
        "colab": {
          "base_uri": "https://localhost:8080/",
          "height": 54
        }
      },
      "source": [
        "import pandas as pd\n",
        "import numpy as np\n",
        "import cv2 as cv\n",
        "import glob\n",
        "import os\n",
        "import matplotlib.pyplot as plt\n",
        "from tqdm import tqdm, tqdm_notebook\n",
        "\n",
        "\n",
        "import tensorflow as tf\n",
        "import tensorflow_hub as hub\n",
        "from tensorflow.keras.preprocessing import text, sequence\n",
        "from tensorflow.keras import optimizers\n",
        "from tensorflow.keras import models\n",
        "from tensorflow.keras import layers\n",
        "from tensorflow.keras import models\n",
        "from tensorflow.keras.layers import *\n",
        "from tensorflow.keras.models import Model\n",
        "from tensorflow.keras.losses import categorical_crossentropy\n",
        "from tensorflow.keras import metrics\n",
        "from tensorflow.keras.utils import to_categorical\n",
        "from tensorflow.keras.applications.inception_v3 import preprocess_input, InceptionV3\n",
        "\n",
        "\n",
        "import warnings\n",
        "warnings.filterwarnings(\"ignore\")\n",
        "from IPython.display import Image\n",
        "\n",
        "from sklearn.metrics import accuracy_score, f1_score\n",
        "from sklearn.feature_extraction.text import TfidfVectorizer\n",
        "from sklearn.metrics.pairwise import cosine_distances\n",
        "from sklearn.decomposition import PCA\n",
        "from sklearn.manifold import TSNE\n",
        "from sklearn.preprocessing import StandardScaler\n",
        "\n",
        "from matplotlib.offsetbox import OffsetImage, AnnotationBbox\n",
        "import re\n",
        "import string\n",
        "import nltk\n",
        "nltk.download('stopwords')\n",
        "from nltk.corpus import stopwords\n",
        "from nltk.stem.porter import PorterStemmer\n"
      ],
      "execution_count": 0,
      "outputs": [
        {
          "output_type": "stream",
          "text": [
            "[nltk_data] Downloading package stopwords to /root/nltk_data...\n",
            "[nltk_data]   Package stopwords is already up-to-date!\n"
          ],
          "name": "stdout"
        }
      ]
    },
    {
      "cell_type": "code",
      "metadata": {
        "id": "_RZsmrzSltsx",
        "colab_type": "code",
        "colab": {}
      },
      "source": [
        "# Setting seed values for various RNG for reproducible results\n",
        "seed_value = 48\n",
        "\n",
        "# 1. Set the `PYTHONHASHSEED` environment variable at a fixed value\n",
        "os.environ['PYTHONHASHSEED']=str(seed_value)\n",
        "\n",
        "# 2. Set the `python` built-in pseudo-random generator at a fixed value\n",
        "import random\n",
        "random.seed(seed_value)\n",
        "\n",
        "# 3. Set the `numpy` pseudo-random generator at a fixed value\n",
        "np.random.seed(seed_value)\n",
        "\n",
        "# 4. Set the `tensorflow` pseudo-random generator at a fixed value\n",
        "tf.compat.v1.set_random_seed(seed_value)"
      ],
      "execution_count": 0,
      "outputs": []
    },
    {
      "cell_type": "code",
      "metadata": {
        "id": "XvZhauoeobkU",
        "colab_type": "code",
        "outputId": "36802ad1-29df-4cc5-ef0e-36a2ae511ad4",
        "colab": {
          "base_uri": "https://localhost:8080/",
          "height": 225
        }
      },
      "source": [
        "df = pd.read_csv('/content/drive/My Drive/HUSE/training.csv')\n",
        "print(df.shape)\n",
        "df.head()"
      ],
      "execution_count": 0,
      "outputs": [
        {
          "output_type": "stream",
          "text": [
            "(65714, 3)\n"
          ],
          "name": "stdout"
        },
        {
          "output_type": "execute_result",
          "data": {
            "text/html": [
              "<div>\n",
              "<style scoped>\n",
              "    .dataframe tbody tr th:only-of-type {\n",
              "        vertical-align: middle;\n",
              "    }\n",
              "\n",
              "    .dataframe tbody tr th {\n",
              "        vertical-align: top;\n",
              "    }\n",
              "\n",
              "    .dataframe thead th {\n",
              "        text-align: right;\n",
              "    }\n",
              "</style>\n",
              "<table border=\"1\" class=\"dataframe\">\n",
              "  <thead>\n",
              "    <tr style=\"text-align: right;\">\n",
              "      <th></th>\n",
              "      <th>image</th>\n",
              "      <th>name</th>\n",
              "      <th>classes</th>\n",
              "    </tr>\n",
              "  </thead>\n",
              "  <tbody>\n",
              "    <tr>\n",
              "      <th>0</th>\n",
              "      <td>5da821eb7f3e301b4504bb4a_0.jpg</td>\n",
              "      <td>Marc Jacobs Beauty  Eye-Conic Longwear Eyeshad...</td>\n",
              "      <td>beauty&lt;makeup&lt;eyeshadow</td>\n",
              "    </tr>\n",
              "    <tr>\n",
              "      <th>1</th>\n",
              "      <td>5da81cde7861c2af6a5a88cf_0.jpg</td>\n",
              "      <td>Marc Jacobs Beauty  Eye-Conic Longwear Eyeshad...</td>\n",
              "      <td>beauty&lt;makeup&lt;eyeshadow</td>\n",
              "    </tr>\n",
              "    <tr>\n",
              "      <th>2</th>\n",
              "      <td>5da8219a6504fb65da0050aa_0.jpg</td>\n",
              "      <td>Prada  Wool sweater</td>\n",
              "      <td>clothing&lt;knitwear&lt;fine knit</td>\n",
              "    </tr>\n",
              "    <tr>\n",
              "      <th>3</th>\n",
              "      <td>5da821856504fb65cea703cf_0.jpg</td>\n",
              "      <td>Prada  Printed silk-satin twill straight-leg p...</td>\n",
              "      <td>clothing&lt;pants&lt;straight leg</td>\n",
              "    </tr>\n",
              "    <tr>\n",
              "      <th>4</th>\n",
              "      <td>5da82200b25b035d1d17bec6_0.jpg</td>\n",
              "      <td>Prada  Cropped chain-trimmed printed crepe str...</td>\n",
              "      <td>clothing&lt;pants&lt;straight leg</td>\n",
              "    </tr>\n",
              "  </tbody>\n",
              "</table>\n",
              "</div>"
            ],
            "text/plain": [
              "                            image  ...                      classes\n",
              "0  5da821eb7f3e301b4504bb4a_0.jpg  ...      beauty<makeup<eyeshadow\n",
              "1  5da81cde7861c2af6a5a88cf_0.jpg  ...      beauty<makeup<eyeshadow\n",
              "2  5da8219a6504fb65da0050aa_0.jpg  ...  clothing<knitwear<fine knit\n",
              "3  5da821856504fb65cea703cf_0.jpg  ...  clothing<pants<straight leg\n",
              "4  5da82200b25b035d1d17bec6_0.jpg  ...  clothing<pants<straight leg\n",
              "\n",
              "[5 rows x 3 columns]"
            ]
          },
          "metadata": {
            "tags": []
          },
          "execution_count": 4
        }
      ]
    },
    {
      "cell_type": "code",
      "metadata": {
        "id": "PY9olnx7oe16",
        "colab_type": "code",
        "outputId": "96f6a33b-2295-48f9-af91-2c815d5503a6",
        "colab": {
          "base_uri": "https://localhost:8080/",
          "height": 90
        }
      },
      "source": [
        "#Checking if any element is null\n",
        "df.isnull().any()"
      ],
      "execution_count": 0,
      "outputs": [
        {
          "output_type": "execute_result",
          "data": {
            "text/plain": [
              "image      False\n",
              "name       False\n",
              "classes    False\n",
              "dtype: bool"
            ]
          },
          "metadata": {
            "tags": []
          },
          "execution_count": 5
        }
      ]
    },
    {
      "cell_type": "code",
      "metadata": {
        "id": "dW4Uo6SWojER",
        "colab_type": "code",
        "outputId": "29d1ff77-cfad-4c36-96bf-9797e8b5cb46",
        "colab": {
          "base_uri": "https://localhost:8080/",
          "height": 54
        }
      },
      "source": [
        "from zipfile import ZipFile\n",
        "with ZipFile('/content/drive/My Drive/HUSE/images.zip', 'r') as ZIP:   ZIP.extractall() #extracting the images\n",
        "print('All Files Extracted!')\n",
        "IMAGES_DIR = '/content/netaporter_gb_images'\n",
        "extracted_images = 0\n",
        "for img in os.listdir(IMAGES_DIR): \n",
        "    if os.path.isfile(os.path.join(IMAGES_DIR, img)):    extracted_images += 1\n",
        "assert(extracted_images == df.shape[0]) #making sure all the images has been extracted\n",
        "print('Number of extracted images {}'.format(extracted_images))"
      ],
      "execution_count": 0,
      "outputs": [
        {
          "output_type": "stream",
          "text": [
            "All Files Extracted!\n",
            "Number of extracted images 65714\n"
          ],
          "name": "stdout"
        }
      ]
    },
    {
      "cell_type": "code",
      "metadata": {
        "id": "VW1RhPJa6u_T",
        "colab_type": "code",
        "outputId": "aa9d9f9c-ed63-4852-ac72-876571d95301",
        "colab": {
          "base_uri": "https://localhost:8080/",
          "height": 417
        }
      },
      "source": [
        "#displaying a random image\n",
        "image_name = df.iloc[np.random.randint(0, 1000)]['image']\n",
        "Image(f'{IMAGES_DIR}/{image_name}')"
      ],
      "execution_count": 0,
      "outputs": [
        {
          "output_type": "execute_result",
          "data": {
            "image/jpeg": "[encoded data removed]",
            "text/plain": [
              "<IPython.core.display.Image object>"
            ]
          },
          "metadata": {
            "tags": []
          },
          "execution_count": 7
        }
      ]
    },
    {
      "cell_type": "markdown",
      "metadata": {
        "id": "RJa9WTFnVPw2",
        "colab_type": "text"
      },
      "source": [
        "# Part 1: Obtaining Embeddings\n",
        "First part of building HUSE Model consists of obtaining the image and text embeddings from some pre-trained models."
      ]
    },
    {
      "cell_type": "markdown",
      "metadata": {
        "id": "SHI9qEPaVzXy",
        "colab_type": "text"
      },
      "source": [
        "For image embeddings I'll pass the given images from the pre-trained InceptionV3 Neural Network and since images are passed with the help of ImageDataGenerator of keras it I'll augment and preprocess the image using the ImageDataGenerator only.\n",
        "\n",
        "InceptionV3 would generate 2048 dimensional embedding for each image, To reduce dimentionality of final embeddings I'll use PCA and finally for each image embedding of size 512 would be obtained"
      ]
    },
    {
      "cell_type": "code",
      "metadata": {
        "id": "GqmYLnMBwh1d",
        "colab_type": "code",
        "outputId": "40cb9f40-bf51-4477-9167-1d7fdf4bf38c",
        "colab": {
          "base_uri": "https://localhost:8080/",
          "height": 35
        }
      },
      "source": [
        "# setting up the ImageDataGenerator for pre-processing and augmentation of the images. \n",
        "from tensorflow.keras.preprocessing.image import ImageDataGenerator\n",
        "batch_size = 319   \n",
        "datagen = ImageDataGenerator(\n",
        "        preprocessing_function = preprocess_input, #pre processing the images according to the neural network\n",
        "        featurewise_center=False,  # set input mean to 0 over the dataset\n",
        "        samplewise_center=False,  # set each sample mean to 0\n",
        "        featurewise_std_normalization=False,  # divide inputs by std of the dataset\n",
        "        samplewise_std_normalization=False,  # divide each input by its std\n",
        "        zca_whitening=False,  # apply ZCA whitening\n",
        "        rotation_range=10,  # randomly rotate images in the range (degrees, 0 to 180)\n",
        "        zoom_range = 0.1, # Randomly zoom image \n",
        "        width_shift_range=0.2,  # randomly shift images horizontally (fraction of total width)\n",
        "        height_shift_range=0.2,  # randomly shift images vertically (fraction of total height)\n",
        "        horizontal_flip=True,  # randomly flip images\n",
        "        vertical_flip=False)  # randomly flip images\n",
        "\n",
        "images_generator = datagen.flow_from_dataframe(\n",
        "    dataframe=df,\n",
        "    directory=IMAGES_DIR,\n",
        "    x_col='image',\n",
        "    y_col='classes',\n",
        "    target_size=(299, 299),\n",
        "    batch_size=batch_size,\n",
        "    class_mode='categorical',\n",
        "    shuffle=False # it is important to keep the shuffle false that way the embeddings and image name in the dataframe will remain consistent\n",
        ")"
      ],
      "execution_count": 0,
      "outputs": [
        {
          "output_type": "stream",
          "text": [
            "Found 65714 validated image filenames belonging to 48 classes.\n"
          ],
          "name": "stdout"
        }
      ]
    },
    {
      "cell_type": "code",
      "metadata": {
        "id": "ceN64y8qycSv",
        "colab_type": "code",
        "outputId": "740e53d0-31dc-48b8-aef9-64acb841eb68",
        "colab": {
          "base_uri": "https://localhost:8080/",
          "height": 67,
          "referenced_widgets": [
            "1c0864b176a84221afbacf245c3385ed",
            "79c5e93f65d94cff8808f841b3f5f8a2",
            "faff4d4fe06647018b4c23eebb74a92a",
            "24ef9521d82640d793546f4935a242a0",
            "5fb12dbb83bd4f1eb7c07a37f1117599",
            "5a6a6b7b88f24e86b9528089fe0bb083",
            "3e3e3e8785444d379e29abafda5309f0",
            "95be2b9690624c66b04aeb010924ff8a"
          ]
        }
      },
      "source": [
        "# using the pre-trained InceptionV3 Neural Network to generate 2048 dimensional embedding for each image\n",
        "\n",
        "from multiprocessing import Pool\n",
        "def create_model_and_predict():\n",
        "    np.random.seed(seed_value)\n",
        "    image_vectors = np.zeros(shape=(extracted_images, 2048)) # np array to store embeddings\n",
        "    embeddings_model = InceptionV3(include_top=False, input_shape=(299, 299, 3), weights='imagenet', pooling='avg')\n",
        "    idx = 0\n",
        "    print('Starting!')\n",
        "    for images_batch, labels_batch in tqdm_notebook(images_generator):\n",
        "        vectors_batch = embeddings_model(images_batch)\n",
        "        image_vectors[idx:idx+batch_size] = vectors_batch\n",
        "        idx += batch_size\n",
        "        if idx >= extracted_images-1:\n",
        "            break\n",
        "    return image_vectors\n",
        "\n",
        "'''\n",
        "Since Tensorflow tends to give all the GPU memory to the Neural Network and it is very difficult to free the memory\n",
        "without restarting the kernel. I used a workaround which is to is to wrap up the model creation and prediction part in\n",
        "a function then use subprocess for the heavy work. when training is done, subprocess will be terminated and GPU memory will be free. \n",
        "'''\n",
        "\n",
        "def run():\n",
        "    with Pool(1) as p:\n",
        "        return p.apply(create_model_and_predict, ())\n",
        "vec = run()"
      ],
      "execution_count": 0,
      "outputs": [
        {
          "output_type": "stream",
          "text": [
            "Starting!\n"
          ],
          "name": "stdout"
        },
        {
          "output_type": "display_data",
          "data": {
            "application/vnd.jupyter.widget-view+json": {
              "model_id": "1c0864b176a84221afbacf245c3385ed",
              "version_minor": 0,
              "version_major": 2
            },
            "text/plain": [
              "HBox(children=(IntProgress(value=0, max=206), HTML(value='')))"
            ]
          },
          "metadata": {
            "tags": []
          }
        }
      ]
    },
    {
      "cell_type": "code",
      "metadata": {
        "id": "0ICOCogbHmV4",
        "colab_type": "code",
        "outputId": "e0b29aeb-2992-4418-d8ab-ecc9766ec6f2",
        "colab": {
          "base_uri": "https://localhost:8080/",
          "height": 54
        }
      },
      "source": [
        "#running PCA to reduce the dimensionality of embeddings obtained by IneptionV3\n",
        "pca = PCA(n_components=512)\n",
        "image_embeddings = pca.fit_transform(vec)\n",
        "print('Cumulative explained variation for 512 principal components: {}'.format(np.sum(pca.explained_variance_ratio_)))\n",
        "print(np.shape(image_embeddings))\n",
        "np.save('image_embeddings.npy', image_embeddings)"
      ],
      "execution_count": 0,
      "outputs": [
        {
          "output_type": "stream",
          "text": [
            "Cumulative explained variation for 512 principal components: 0.9184639704232076\n",
            "(65714, 512)\n"
          ],
          "name": "stdout"
        }
      ]
    },
    {
      "cell_type": "markdown",
      "metadata": {
        "id": "QeBdo6QAYVPs",
        "colab_type": "text"
      },
      "source": [
        "For Text Embeddings first I will preprocess/clean the text. Then the texts are passed through pre-trained BERT Model which provides 768 dimensional embedding for each text and to reduce the dimensionality I'll again use PCA."
      ]
    },
    {
      "cell_type": "code",
      "metadata": {
        "id": "1-JFNHfvH_DE",
        "colab_type": "code",
        "colab": {}
      },
      "source": [
        "# decontracting all contracted words\n",
        "def decontracted(phrase):\n",
        "    phrase = re.sub(r\"won't\", \"will not\", phrase)\n",
        "    phrase = re.sub(r\"can\\'t\", \"can not\", phrase)\n",
        "    phrase = re.sub(r\"n\\'t\", \" not\", phrase)\n",
        "    phrase = re.sub(r\"\\'re\", \" are\", phrase)\n",
        "    phrase = re.sub(r\"\\'s\", \" is\", phrase)\n",
        "    phrase = re.sub(r\"\\'d\", \" would\", phrase)\n",
        "    phrase = re.sub(r\"\\'ll\", \" will\", phrase)\n",
        "    phrase = re.sub(r\"\\'t\", \" not\", phrase)\n",
        "    phrase = re.sub(r\"\\'ve\", \" have\", phrase)\n",
        "    phrase = re.sub(r\"\\'m\", \" am\", phrase)\n",
        "    return phrase"
      ],
      "execution_count": 0,
      "outputs": []
    },
    {
      "cell_type": "code",
      "metadata": {
        "id": "Uq_YBtaYIhq7",
        "colab_type": "code",
        "colab": {}
      },
      "source": [
        "# Cleaning the texts\n",
        "def preprocessing(phrase):\n",
        "    result = decontracted(str(phrase))      \n",
        "    result = result.strip()             #remove leading and ending spaces\n",
        "    result = result.split()             #Split to tokenize words\n",
        "    ps = PorterStemmer()                #reducing words to their word stem or base\n",
        "    result = [ps.stem(word) for word in result if not word in set(stopwords.words('english'))]  #remove the stopwords\n",
        "    result = ' '.join(result)           #Joining all the tokens \n",
        "    return result"
      ],
      "execution_count": 0,
      "outputs": []
    },
    {
      "cell_type": "code",
      "metadata": {
        "id": "64BlboNYImCU",
        "colab_type": "code",
        "outputId": "234a67fd-8a63-4b56-cac3-e68e2634dfeb",
        "colab": {
          "base_uri": "https://localhost:8080/",
          "height": 109
        }
      },
      "source": [
        "description = df['name'].str.lower()        #Convert text to lowercase\n",
        "sentences = description.map(preprocessing)\n",
        "print(sentences[:4])"
      ],
      "execution_count": 0,
      "outputs": [
        {
          "output_type": "stream",
          "text": [
            "0    marc jacob beauti eye-con longwear eyeshadow p...\n",
            "1    marc jacob beauti eye-con longwear eyeshadow p...\n",
            "2                                   prada wool sweater\n",
            "3       prada print silk-satin twill straight-leg pant\n",
            "Name: name, dtype: object\n"
          ],
          "name": "stdout"
        }
      ]
    },
    {
      "cell_type": "code",
      "metadata": {
        "id": "FibGJN_KJVe1",
        "colab_type": "code",
        "outputId": "a7c59795-0642-44d0-bdd1-d8ed17d560bb",
        "colab": {
          "base_uri": "https://localhost:8080/",
          "height": 35
        }
      },
      "source": [
        "#installing all the necessary dependencies\n",
        "from IPython.utils import io\n",
        "with io.capture_output() as captured: #as the commands used below print stuff that is not necessary I used capture to hide their Output\n",
        "    !pip install -U sentence-transformers\n",
        "    !git clone https://github.com/UKPLab/sentence-transformers.git\n",
        "    !cd sentence-transformers/\n",
        "    !pip install -e .\n",
        "print('Installation Complete')"
      ],
      "execution_count": 0,
      "outputs": [
        {
          "output_type": "stream",
          "text": [
            "Installation Complete\n"
          ],
          "name": "stdout"
        }
      ]
    },
    {
      "cell_type": "code",
      "metadata": {
        "id": "fox_kkrIJy5k",
        "colab_type": "code",
        "outputId": "779231c8-4de9-42ea-ea10-9d5cc6286f18",
        "colab": {
          "base_uri": "https://localhost:8080/",
          "height": 35
        }
      },
      "source": [
        "#Downloading the pre-trained model\n",
        "from sentence_transformers import SentenceTransformer\n",
        "model = SentenceTransformer('bert-base-nli-mean-tokens')"
      ],
      "execution_count": 0,
      "outputs": [
        {
          "output_type": "stream",
          "text": [
            "100%|██████████| 405M/405M [00:44<00:00, 9.09MB/s]\n"
          ],
          "name": "stderr"
        }
      ]
    },
    {
      "cell_type": "code",
      "metadata": {
        "id": "xJ1wbOArLo_y",
        "colab_type": "code",
        "outputId": "b398ad15-eed8-4565-b1e4-b85054a7f7d7",
        "colab": {
          "base_uri": "https://localhost:8080/",
          "height": 35
        }
      },
      "source": [
        "#passing the texts through model\n",
        "texts = model.encode(sentences)\n",
        "print(np.shape(texts))"
      ],
      "execution_count": 0,
      "outputs": [
        {
          "output_type": "stream",
          "text": [
            "(65714, 768)\n"
          ],
          "name": "stdout"
        }
      ]
    },
    {
      "cell_type": "code",
      "metadata": {
        "id": "x6OX3qp0mWR0",
        "colab_type": "code",
        "outputId": "512558c1-5463-4821-ef10-070f2285c20a",
        "colab": {
          "base_uri": "https://localhost:8080/",
          "height": 54
        }
      },
      "source": [
        "#reducing the dimensionality using PCA\n",
        "pca = PCA(n_components=512)\n",
        "texts = pca.fit_transform(texts)\n",
        "print('Cumulative explained variation for 512 principal components: {}'.format(np.sum(pca.explained_variance_ratio_)))\n",
        "print(np.shape(texts))\n",
        "np.save('/content/text_embeddings.npy', texts) "
      ],
      "execution_count": 0,
      "outputs": [
        {
          "output_type": "stream",
          "text": [
            "Cumulative explained variation for 512 principal components: 0.9960530063662713\n",
            "(65714, 512)\n"
          ],
          "name": "stdout"
        }
      ]
    },
    {
      "cell_type": "markdown",
      "metadata": {
        "id": "2xM5I5DNm8BE",
        "colab_type": "text"
      },
      "source": [
        "Class embeddings are obtained by passing the classes through the Sentence Encoder"
      ]
    },
    {
      "cell_type": "code",
      "metadata": {
        "id": "_EfZY23RmZsX",
        "colab_type": "code",
        "outputId": "eb621962-2e22-4b2b-9276-2b0475831fc8",
        "colab": {
          "base_uri": "https://localhost:8080/",
          "height": 35
        }
      },
      "source": [
        "# Replace < with space so that the classes can be processed by the sentence encoder\n",
        "df['classes'] = df['classes'].str.replace('<',' ')\n",
        "all_classes = df['classes'].unique()\n",
        "len(all_classes)"
      ],
      "execution_count": 0,
      "outputs": [
        {
          "output_type": "execute_result",
          "data": {
            "text/plain": [
              "48"
            ]
          },
          "metadata": {
            "tags": []
          },
          "execution_count": 18
        }
      ]
    },
    {
      "cell_type": "code",
      "metadata": {
        "id": "gU2IYLjZnlag",
        "colab_type": "code",
        "outputId": "b5f97320-28c9-4b9a-c0f8-539def4151cf",
        "colab": {
          "base_uri": "https://localhost:8080/",
          "height": 219
        }
      },
      "source": [
        "#downloading and extracting the sentence encoder\n",
        "!mkdir /content/universal  \n",
        "!curl -L \"https://tfhub.dev/google/universal-sentence-encoder-large/3?tf-hub-format=compressed\" | tar -zxvC /content/universal/"
      ],
      "execution_count": 0,
      "outputs": [
        {
          "output_type": "stream",
          "text": [
            "  % Total    % Received % Xferd  Average Speed   Time    Time     Time  Current\n",
            "                                 Dload  Upload   Total   Spent    Left  Speed\n",
            "\r  0     0    0     0    0     0      0      0 --:--:-- --:--:-- --:--:--     0\r  0     0    0     0    0     0      0      0 --:--:-- --:--:-- --:--:--     0\n",
            "\r  0  745M    0  130k    0     0   223k      0  0:56:55 --:--:--  0:56:55  223k./\n",
            "./tfhub_module.pb\n",
            "./variables/\n",
            "./variables/variables.data-00000-of-00001\n",
            " 91  745M   91  683M    0     0  54.9M      0  0:00:13  0:00:12  0:00:01 59.4M./variables/variables.index\n",
            "./assets/\n",
            "./saved_model.pb\n",
            "100  745M  100  745M    0     0  56.4M      0  0:00:13  0:00:13 --:--:-- 61.2M\n"
          ],
          "name": "stdout"
        }
      ]
    },
    {
      "cell_type": "code",
      "metadata": {
        "id": "7dqCjj9BnnF7",
        "colab_type": "code",
        "outputId": "a09687b4-4101-4a3a-c456-43b4018f3689",
        "colab": {
          "base_uri": "https://localhost:8080/",
          "height": 164
        }
      },
      "source": [
        "# passing the classes through the sentence encoder to obtain the respective encodings\n",
        "def embed_useT(module):\n",
        "    with tf.Graph().as_default():\n",
        "        sentences = tf.compat.v1.placeholder(tf.string)\n",
        "        embed = hub.Module(module)\n",
        "        embeddings = embed(sentences)\n",
        "        session = tf.compat.v1.train.MonitoredSession()\n",
        "    return lambda x: session.run(embeddings, {sentences: x})\n",
        "embed_fn = embed_useT('/content/universal')"
      ],
      "execution_count": 0,
      "outputs": [
        {
          "output_type": "stream",
          "text": [
            "INFO:tensorflow:Saver not created because there are no variables in the graph to restore\n"
          ],
          "name": "stdout"
        },
        {
          "output_type": "stream",
          "text": [
            "INFO:tensorflow:Saver not created because there are no variables in the graph to restore\n"
          ],
          "name": "stderr"
        },
        {
          "output_type": "stream",
          "text": [
            "INFO:tensorflow:Graph was finalized.\n"
          ],
          "name": "stdout"
        },
        {
          "output_type": "stream",
          "text": [
            "INFO:tensorflow:Graph was finalized.\n"
          ],
          "name": "stderr"
        },
        {
          "output_type": "stream",
          "text": [
            "INFO:tensorflow:Running local_init_op.\n"
          ],
          "name": "stdout"
        },
        {
          "output_type": "stream",
          "text": [
            "INFO:tensorflow:Running local_init_op.\n"
          ],
          "name": "stderr"
        },
        {
          "output_type": "stream",
          "text": [
            "INFO:tensorflow:Done running local_init_op.\n"
          ],
          "name": "stdout"
        },
        {
          "output_type": "stream",
          "text": [
            "INFO:tensorflow:Done running local_init_op.\n"
          ],
          "name": "stderr"
        }
      ]
    },
    {
      "cell_type": "code",
      "metadata": {
        "id": "9ak-tlhpnqxh",
        "colab_type": "code",
        "outputId": "cc84c2a7-592b-49a9-8d57-6a3494e3f85e",
        "colab": {
          "base_uri": "https://localhost:8080/",
          "height": 35
        }
      },
      "source": [
        "class_name = all_classes\n",
        "labels_embeddings = embed_fn(class_name)\n",
        "print(np.shape(labels_embeddings))\n",
        "np.save('/content/class_embeddings.npy',labels_embeddings)\n",
        "np.save('/content/class_name.npy', class_name)"
      ],
      "execution_count": 0,
      "outputs": [
        {
          "output_type": "stream",
          "text": [
            "(48, 512)\n"
          ],
          "name": "stdout"
        }
      ]
    },
    {
      "cell_type": "markdown",
      "metadata": {
        "id": "ULIWqfaVMTF2",
        "colab_type": "text"
      },
      "source": [
        "# Part 2: Defining the Model\n",
        "In this part Image tower and Text tower is defined which will take the pre-trained embeddings obtained above and project those embeddings onto the universal shared space, this is done with the help of classification layer which is common for both the image tower and text tower.\n",
        "\n",
        "### Architecture Of Image Tower And Text Tower\n",
        "\n",
        "Image Tower consists of 5 hidden layers of 512 hidden units each and text tower consists of 2 hidden layers of 512 hidden units each. A dropout of 0.15 is used between all the hidden layers. Output of both the towers is L2 Normalized and passed onto the classification layer for the classification of the object."
      ]
    },
    {
      "cell_type": "code",
      "metadata": {
        "id": "Q2efqSS0oKCf",
        "colab_type": "code",
        "colab": {}
      },
      "source": [
        "inputImage = Input(shape=(512, ))\n",
        "inputText =  Input(shape=(512, ))\n",
        " \n",
        "#constructing the image tower which consists of 5X Dense layers with 512 hidden units with Dropout of 0.15 between them\n",
        "x = Dense(512, 'relu')(inputImage)\n",
        "x = Dropout(0.15)(x)\n",
        "x = Dense(512, 'relu')(x)\n",
        "x = Dropout(0.15)(x)\n",
        "x = Dense(512, 'relu')(x)\n",
        "x = Dropout(0.15)(x)\n",
        "x = Dense(512, 'relu')(x)\n",
        "x = Dropout(0.15)(x)\n",
        "outputImage = Dense(512, 'relu')(x)\n",
        "\n",
        "# constructing the text tower which consists of 2X Dense layers with 512 hidden units with Droupout of 0.15 between them\n",
        "y = Dense(512, 'relu')(inputText)\n",
        "y = Dropout(0.15)(y)\n",
        "outputText = Dense(512, 'relu')(y)\n",
        "\n",
        "outputModel = Dense(48, activation='softmax') # same classifier layer for image and text tower\n",
        "\n",
        "# passing the L2 normalized image and text embeddings to the classifier layer \n",
        "outImage = outputModel(tf.keras.backend.l2_normalize(outputImage))\n",
        "outText = outputModel(tf.keras.backend.l2_normalize(outputText))"
      ],
      "execution_count": 0,
      "outputs": []
    },
    {
      "cell_type": "code",
      "metadata": {
        "id": "YDuwININoYs4",
        "colab_type": "code",
        "colab": {}
      },
      "source": [
        "# Now we'll construct 5 models based on the requirements each model would have different input and output from each other\n",
        "\n",
        "model = Model([inputImage, inputText], [outImage, outText]) # main model with both image and text embeddings as input and class as output\n",
        "\n",
        "# models for creating the image and text embedding in the universal shared space\n",
        "imageEmbeddings = Model(inputImage, outputImage) \n",
        "textEmbeddings = Model(inputText, outputText)\n",
        "\n",
        "# models for obtaining class outout from image or text data\n",
        "imageModel = Model(inputImage, outImage)\n",
        "textModel = Model(inputText, outText)"
      ],
      "execution_count": 0,
      "outputs": []
    },
    {
      "cell_type": "markdown",
      "metadata": {
        "id": "rNRnKNfJQHkA",
        "colab_type": "text"
      },
      "source": [
        "# Part 3: Defining Losses and Training the model\n",
        "\n",
        "### Losses\n",
        "We define 3 kinds of loss in this model, Cross Classification Loss, Modal loss, Semantic Loss. For classification loss categorical crossentory Loss is used, but for the later 2 losses custom methods are used which involves calculating distance between various embeddings, So the distance metric used is Cosine Distance"
      ]
    },
    {
      "cell_type": "code",
      "metadata": {
        "id": "xxrmqnL2oasE",
        "colab_type": "code",
        "colab": {}
      },
      "source": [
        "\n",
        "def dist(embedding1, embedding2):\n",
        "    return cosine_distances(embedding1, embedding2)"
      ],
      "execution_count": 0,
      "outputs": []
    },
    {
      "cell_type": "markdown",
      "metadata": {
        "id": "YeGATAy0RFn4",
        "colab_type": "text"
      },
      "source": [
        "### Cross Modal Loss\n",
        "The formula used to calculate the cross modal loss is the following:\n",
        "\n",
        "<img src=\"https://drive.google.com/uc?id=1hbhF8VxhcjgR0FI7QZDLPTpvdPy2W3_M\" width=\"400\">\n",
        "\n",
        "Here PhiI represents the projection of image embeddings onto universal shared space and PhiT represents the projection of text embeddings onto universal shared space. The main purpose of this Loss is to reduce the cross modal gap, the distance between universal image and text embeddings corresponding to the same instance"
      ]
    },
    {
      "cell_type": "code",
      "metadata": {
        "id": "LEPN_86zoctv",
        "colab_type": "code",
        "colab": {}
      },
      "source": [
        "def loss_modal(embeddingsImage, embeddingsText):\n",
        "    distance = dist(embeddingsImage, embeddingsText) #this constructs the matrix which contains pair wise distance beween each embeddings\n",
        "    return (1/batch_size) * np.sum(np.diagonal(distance)) # since we need embeddings from same class we take the diagonal"
      ],
      "execution_count": 0,
      "outputs": []
    },
    {
      "cell_type": "markdown",
      "metadata": {
        "id": "z6NSabs3SKAK",
        "colab_type": "text"
      },
      "source": [
        "### Semantic Similarity Loss\n",
        "The formula used to calculate the Semantic Similarity loss is the following:\n",
        "\n",
        "<img src=\"https://drive.google.com/uc?id=19GqY4h7PHo4gTzn7DGls8vvY_DBqrw_w\" width=\"400\">\n",
        "\n",
        "Here sigma is the margin, Phi represents the function which projects the given embeddings onto universal space irrespective of their modalities.\n",
        "Aij represnts the semantic distance between the ith and jth class. The main purpose of this Loss is to make the learned universal embedding space semantically meaningful, where the embeddings corresponding to two semantically similar classes are closer than the embeddings corresponding to two semantically different classes."
      ]
    },
    {
      "cell_type": "code",
      "metadata": {
        "id": "WXtVI6KmoeIz",
        "colab_type": "code",
        "colab": {}
      },
      "source": [
        "def loss_class(embeddingsImage, embeddingsText, classes, margin):\n",
        "\n",
        "    #obtaining the matrix of distances between the image, class and text embeddings\n",
        "    distanceImage = dist(embeddingsImage, embeddingsImage) \n",
        "    distanceText = dist(embeddingsText, embeddingsText)\n",
        "    distClasses = dist(classes, classes)\n",
        "    \n",
        "    # since we have to only consider the classes whose distance is less than margin we construct multiplier matrix\n",
        "    multiplier = np.zeros((batch_size, batch_size))\n",
        "    try:\n",
        "        for i in range(batch_size):\n",
        "            for j in range(i+1, batch_size):\n",
        "                if abs(distClasses[i][j]) <= margin:\n",
        "                    multiplier[i][j] = distClasses[i][j]\n",
        "    except:\n",
        "        print(distClasses.shape, classes.shape)\n",
        "    \n",
        "    imageLoss = np.multiply(multiplier, (distanceImage - distClasses)**2)  #use np.power() if the tolerance is low\n",
        "    textLoss = np.multiply(multiplier, (distanceText - distClasses)**2)\n",
        "\n",
        "    totalLoss = np.sum(imageLoss + textLoss) * (1/batch_size**2)\n",
        "\n",
        "    return totalLoss"
      ],
      "execution_count": 0,
      "outputs": []
    },
    {
      "cell_type": "markdown",
      "metadata": {
        "id": "u_rkzX4jTlcB",
        "colab_type": "text"
      },
      "source": [
        "### Classification Loss\n",
        "For classification loss we used pre-built Categorical Crossentropy loss. The main purpose of this loss is to make sure that the universally embeddings can be used for classification task."
      ]
    },
    {
      "cell_type": "code",
      "metadata": {
        "id": "xAx-YoQUrfDj",
        "colab_type": "code",
        "colab": {}
      },
      "source": [
        "def loss_classification(predicted_labels, correct_labels):\n",
        "    return categorical_crossentropy(correct_labels, predicted_labels)"
      ],
      "execution_count": 0,
      "outputs": []
    },
    {
      "cell_type": "markdown",
      "metadata": {
        "id": "Fseq9o90Uhjd",
        "colab_type": "text"
      },
      "source": [
        "We use the below written function for training the above defined model. It receives the batch of image, texts prediction. Training involves making the predictions on the batch recevied, calculating loss using the predictions and then using the loss the calculate the gradients for the trainable parameters. Then all the trainable parameters are updated using optimizer."
      ]
    },
    {
      "cell_type": "code",
      "metadata": {
        "id": "cWNWbobuo_Mw",
        "colab_type": "code",
        "colab": {}
      },
      "source": [
        "def train_step(images_batch, text_batch, labels_batch, labels_embeddings, print_accuracy=False):\n",
        "    with tf.GradientTape() as tape:\n",
        "        #passing the batches of images and texts from their respective models and obtaining results\n",
        "        #the resulstant universal embeddings are L2 normalized\n",
        "        image_predictions = imageModel(images_batch, training=True) # obtaining class prediction for pre trainend image embeddings\n",
        "\n",
        "        text_predictions = textModel(text_batch, training=True) # obtaining class prediction for pre trainend text embeddings\n",
        "\n",
        "        image_embeddings = imageEmbeddings(images_batch, training=True) #universal image embeddings are obtained by passing pre trained image embedding through imageEmbeddings model\n",
        "        image_embeddings = tf.keras.backend.l2_normalize(image_embeddings)\n",
        "        image_embeddings = np.array(image_embeddings)\n",
        "\n",
        "        text_embeddings = textEmbeddings(text_batch, training=True) # universal text embeddings are obtained by passing pre trained text embeddings through textEmbeddings model \n",
        "        text_embeddings = tf.keras.backend.l2_normalize(text_embeddings)\n",
        "        text_embeddings = text_embeddings.numpy()\n",
        "\n",
        "\n",
        "        # calcualting all the necessary kind of losses\n",
        "        classification_loss = loss_classification(image_predictions, labels_batch) + loss_classification(text_predictions, labels_batch)\n",
        "        class_loss = loss_class(image_embeddings, text_embeddings, labels_embeddings, margin)\n",
        "        modal_loss = loss_modal(image_embeddings, text_embeddings)\n",
        "\n",
        "        total_loss = alpha * classification_loss + beta * class_loss + gamma * modal_loss\n",
        "\n",
        "        history.append(total_loss.numpy().mean())\n",
        "\n",
        "        #calculating the accuracy\n",
        "        predictions = model([images_batch, text_batch])\n",
        "        predictions = np.array(predictions)\n",
        "        avg_predictions = predictions[0] + predictions[1]\n",
        "        correct_labels = np.array([np.argmax(i) for i in labels_batch])\n",
        "        preds = np.array([np.argmax(i) for i in avg_predictions])\n",
        "        if print_accuracy == True:\n",
        "            with out:\n",
        "                clear_output()\n",
        "            with out:\n",
        "                print(accuracy_score(correct_labels, preds), f1_score(correct_labels, preds, average='weighted'))\n",
        "\n",
        "        # calcualting grads and optimizing the trainable params.\n",
        "        optimizer = optimizers.RMSprop(lr=1e-4, decay=0.9)\n",
        "        grads = tape.gradient(total_loss, model.trainable_variables)\n",
        "        optimizer.apply_gradients(zip(grads, model.trainable_variables))\n",
        "        "
      ],
      "execution_count": 0,
      "outputs": []
    },
    {
      "cell_type": "code",
      "metadata": {
        "id": "ZQBno905rGmZ",
        "colab_type": "code",
        "colab": {}
      },
      "source": [
        "#loading intial embeddings obtained by pre trained networks\n",
        "images = np.load('/content/image_embeddings.npy')\n",
        "texts = np.load('/content/text_embeddings.npy')\n",
        "labels_embeddings = np.load('/content/class_embeddings.npy')\n",
        "class_name = np.load('/content//class_name.npy', allow_pickle=True)"
      ],
      "execution_count": 0,
      "outputs": []
    },
    {
      "cell_type": "code",
      "metadata": {
        "id": "X8XVShpPrKYy",
        "colab_type": "code",
        "colab": {}
      },
      "source": [
        "class_labels_map = {}\n",
        "inv_class_labels_map = {}\n",
        "for i in range(0, 48):\n",
        "    class_labels_map[i] = class_name[i]\n",
        "    inv_class_labels_map[class_name[i]] = i"
      ],
      "execution_count": 0,
      "outputs": []
    },
    {
      "cell_type": "code",
      "metadata": {
        "id": "DhEuUh0MrKm_",
        "colab_type": "code",
        "colab": {}
      },
      "source": [
        "def repair(x):\n",
        "    x = x.replace('<', ' ')\n",
        "    return x"
      ],
      "execution_count": 0,
      "outputs": []
    },
    {
      "cell_type": "code",
      "metadata": {
        "id": "Ri8tNAd4rMxW",
        "colab_type": "code",
        "colab": {}
      },
      "source": [
        "#one hot encoding labels for training\n",
        "labels = df['classes'].map(repair)\n",
        "labels_num = labels.map(inv_class_labels_map)\n",
        "labels = to_categorical(labels_num, 48)"
      ],
      "execution_count": 0,
      "outputs": []
    },
    {
      "cell_type": "markdown",
      "metadata": {
        "id": "J3Q3m4DO8IeD",
        "colab_type": "text"
      },
      "source": [
        "### Training\n",
        "The below written function will call the traing step function for batches of images and text to train the model"
      ]
    },
    {
      "cell_type": "code",
      "metadata": {
        "id": "rMViescMrN-U",
        "colab_type": "code",
        "outputId": "298fc5a2-1b70-472f-d85c-be730758868e",
        "colab": {
          "base_uri": "https://localhost:8080/",
          "height": 118,
          "referenced_widgets": [
            "488f3b007a8942c1a05dbb366b17fa54",
            "abd14a98df5f49ef819287a164e8d371",
            "c0fe95afe802410da239675ef68f07db",
            "34f73edd6a904f73b900dcd3233fee52",
            "c903ccfb351743c08c52a1f913202b91",
            "9a4cd9ad7c7944f2badd1702f56f28ef",
            "64d9965863414cd29409a9e90c38dd46",
            "b0962681672e474492906ef0b80e465b",
            "7792e21e25d84ac4a563f7bbca8da208",
            "761331e10f1b4c4eaa6712665a709cb3",
            "63550bb10d084a22af64b36f09ca70e6",
            "4de938c8e39749a8a35ba1b38d0c7e80",
            "574c8e00c72b4e748df95ef05c1eb191",
            "0df7a34538174320b703bf37399f4d7d",
            "afe636277bf34b59aa40c57dc507335d",
            "f31471556a144d0381ed177208de9d6f",
            "2d5150f19847432883e1f082389454da",
            "8cd0b31c066b4e2cb48b6a286c091d83"
          ]
        }
      },
      "source": [
        "from ipywidgets import IntSlider, Output\n",
        "from IPython.display import display, clear_output\n",
        "\n",
        "out = Output()\n",
        "display(out)\n",
        "\n",
        "history = []\n",
        "batch_size = 32\n",
        "margin = 0.5\n",
        "alpha, beta, gamma = 1, 1, 1\n",
        "EPOCHS = 1\n",
        "for epoch in tqdm_notebook(range(EPOCHS)):\n",
        "    for i in tqdm_notebook(range(batch_size,len(images), batch_size)):\n",
        "        images_batch = images[i-batch_size:i]\n",
        "        texts_batch = texts[i-batch_size:i]\n",
        "        labels_batch = labels[i-batch_size:i]\n",
        "        labels_num_batch = labels_num[i-batch_size:i]\n",
        "        labels_embeddings_batch = []\n",
        "        for label in labels_num_batch:\n",
        "            labels_embeddings_batch.append(labels_embeddings[label])\n",
        "        labels_embeddings_batch = np.array(labels_embeddings_batch)\n",
        "        assert(images_batch.shape == (batch_size, 512))       # Check on inputs shape\n",
        "        assert(texts_batch.shape == (batch_size, 512))\n",
        "        assert(labels_batch.shape == (batch_size, 48))\n",
        "        assert(labels_embeddings_batch.shape == (batch_size, 512))\n",
        "        train_step(images_batch, texts_batch, labels_batch, labels_embeddings_batch, print_accuracy=True)\n",
        "\n",
        "        if i > batch_size * 20: # since the training time is high, only 20 batches are trained.\n",
        "            break"
      ],
      "execution_count": 0,
      "outputs": [
        {
          "output_type": "display_data",
          "data": {
            "application/vnd.jupyter.widget-view+json": {
              "model_id": "488f3b007a8942c1a05dbb366b17fa54",
              "version_minor": 0,
              "version_major": 2
            },
            "text/plain": [
              "Output()"
            ]
          },
          "metadata": {
            "tags": []
          }
        },
        {
          "output_type": "display_data",
          "data": {
            "application/vnd.jupyter.widget-view+json": {
              "model_id": "c0fe95afe802410da239675ef68f07db",
              "version_minor": 0,
              "version_major": 2
            },
            "text/plain": [
              "HBox(children=(IntProgress(value=0, max=1), HTML(value='')))"
            ]
          },
          "metadata": {
            "tags": []
          }
        },
        {
          "output_type": "display_data",
          "data": {
            "application/vnd.jupyter.widget-view+json": {
              "model_id": "63550bb10d084a22af64b36f09ca70e6",
              "version_minor": 0,
              "version_major": 2
            },
            "text/plain": [
              "HBox(children=(IntProgress(value=0, max=2053), HTML(value='')))"
            ]
          },
          "metadata": {
            "tags": []
          }
        },
        {
          "output_type": "stream",
          "text": [
            "\n"
          ],
          "name": "stdout"
        }
      ]
    },
    {
      "cell_type": "code",
      "metadata": {
        "id": "D_s1UEscrRSL",
        "colab_type": "code",
        "outputId": "daf18f19-9d25-4f79-ff33-4ae63f4d4949",
        "colab": {
          "base_uri": "https://localhost:8080/",
          "height": 283
        }
      },
      "source": [
        "plt.plot(history)"
      ],
      "execution_count": 0,
      "outputs": [
        {
          "output_type": "execute_result",
          "data": {
            "text/plain": [
              "[<matplotlib.lines.Line2D at 0x7f33aadca7f0>]"
            ]
          },
          "metadata": {
            "tags": []
          },
          "execution_count": 219
        },
        {
          "output_type": "display_data",
          "data": {
            "image/png": "[encoded data removed]",
            "text/plain": [
              "<Figure size 432x288 with 1 Axes>"
            ]
          },
          "metadata": {
            "tags": [],
            "needs_background": "light"
          }
        }
      ]
    },
    {
      "cell_type": "code",
      "metadata": {
        "id": "i2mFXElcw5w-",
        "colab_type": "code",
        "colab": {}
      },
      "source": [
        ""
      ],
      "execution_count": 0,
      "outputs": []
    }
  ]
}